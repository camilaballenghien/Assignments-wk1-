{
 "cells": [
  {
   "cell_type": "markdown",
   "metadata": {},
   "source": [
    "Mad Libs Generator\n"
   ]
  },
  {
   "cell_type": "code",
   "execution_count": 1,
   "metadata": {},
   "outputs": [
    {
     "name": "stdout",
     "output_type": "stream",
     "text": [
      "['pretty', 'write', 'easy', 'writing']\n",
      "Mad libs are pretty stories that you write on the spot they are very easy to write. This is my first time writing a madlibs coding exercice.\n"
     ]
    }
   ],
   "source": [
    "word_generator=[]\n",
    "story='Mad libs are - stories that you - on the spot they are very - to write. This is my first time - a madlibs coding exercice.'\n",
    "while len(word_generator)<4:\n",
    "    word=input('Enter an adjective')\n",
    "    word_generator.append(word)\n",
    "    word2=input('Enter a verb')\n",
    "    word_generator.append(word2)\n",
    "print(word_generator)\n",
    "listStory=list(story.split())\n",
    "\n",
    "\n",
    "listStory[3]=word_generator[0]\n",
    "listStory[7]=word_generator[1]\n",
    "listStory[14]=word_generator[2]\n",
    "listStory[22]=word_generator[3]\n",
    "\n",
    "finalstory=' '.join(str(item)for item in listStory)\n",
    "print(finalstory)"
   ]
  }
 ],
 "metadata": {
  "interpreter": {
   "hash": "c4ef5ac9fe40889065280bc4036777609cd7465c040dacc36170616df68f6045"
  },
  "kernelspec": {
   "display_name": "Python 3.10.2 64-bit",
   "language": "python",
   "name": "python3"
  },
  "language_info": {
   "codemirror_mode": {
    "name": "ipython",
    "version": 3
   },
   "file_extension": ".py",
   "mimetype": "text/x-python",
   "name": "python",
   "nbconvert_exporter": "python",
   "pygments_lexer": "ipython3",
   "version": "3.10.2"
  },
  "orig_nbformat": 4
 },
 "nbformat": 4,
 "nbformat_minor": 2
}
