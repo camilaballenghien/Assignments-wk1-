{
 "cells": [
  {
   "cell_type": "markdown",
   "metadata": {},
   "source": [
    "Dice Rolling Simulator\n"
   ]
  },
  {
   "cell_type": "markdown",
   "metadata": {},
   "source": [
    "Draft version"
   ]
  },
  {
   "cell_type": "code",
   "execution_count": null,
   "metadata": {},
   "outputs": [],
   "source": [
    "import random \n",
    "roll=''\n",
    "\n",
    "while roll!=\"no\":\n",
    "    roll=input('Roll the dice?')\n",
    "    randroll=random.randint(1,6)\n",
    "    print(randroll)"
   ]
  },
  {
   "cell_type": "markdown",
   "metadata": {},
   "source": [
    "Final version"
   ]
  },
  {
   "cell_type": "code",
   "execution_count": 13,
   "metadata": {},
   "outputs": [
    {
     "name": "stdout",
     "output_type": "stream",
     "text": [
      "This is not an appropriate answer, next time please answer with yes or no.\n"
     ]
    }
   ],
   "source": [
    "import random\n",
    "\n",
    "\n",
    "while True:\n",
    "    roll=input('Roll the dice?')\n",
    "    if roll == \"yes\" or roll == \"Yes\" or roll == \"yeah\" or roll == \"y\":\n",
    "        randroll=random.randint(1,6)\n",
    "        print(randroll)\n",
    "    elif roll == \"No\" or roll == \"no\" or roll== \"n\":\n",
    "        break\n",
    "    else:\n",
    "        print('This is not an appropriate answer, next time please answer with yes or no.')\n",
    "        break\n",
    "    "
   ]
  }
 ],
 "metadata": {
  "interpreter": {
   "hash": "c4ef5ac9fe40889065280bc4036777609cd7465c040dacc36170616df68f6045"
  },
  "kernelspec": {
   "display_name": "Python 3.10.2 64-bit",
   "language": "python",
   "name": "python3"
  },
  "language_info": {
   "codemirror_mode": {
    "name": "ipython",
    "version": 3
   },
   "file_extension": ".py",
   "mimetype": "text/x-python",
   "name": "python",
   "nbconvert_exporter": "python",
   "pygments_lexer": "ipython3",
   "version": "3.10.2"
  },
  "orig_nbformat": 4
 },
 "nbformat": 4,
 "nbformat_minor": 2
}
