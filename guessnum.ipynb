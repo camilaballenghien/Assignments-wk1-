{
 "cells": [
  {
   "cell_type": "markdown",
   "metadata": {},
   "source": [
    "Guess the Number\n"
   ]
  },
  {
   "cell_type": "markdown",
   "metadata": {},
   "source": [
    "Draft version (scroll down for the final version)"
   ]
  },
  {
   "cell_type": "code",
   "execution_count": 7,
   "metadata": {},
   "outputs": [
    {
     "name": "stdout",
     "output_type": "stream",
     "text": [
      "The number can go between 1 and 10\n"
     ]
    }
   ],
   "source": [
    "import random \n",
    "\n",
    "rand_num=random.randint(1,10 )\n",
    "print(\"The number can go between 1 and 10\")\n",
    "\n",
    "\n"
   ]
  },
  {
   "cell_type": "code",
   "execution_count": null,
   "metadata": {},
   "outputs": [],
   "source": [
    "\n",
    "guess=input('Guess the number within the range')\n",
    "\n",
    "try:\n",
    "    int(guess)\n",
    "    it_is= True\n",
    "except ValueError:\n",
    "    it_is=False\n",
    "    print('This is not a number')\n",
    "\n",
    "if it_is==True: \n",
    "    \n",
    "    if int(guess)<rand_num:\n",
    "        print('Your number is too low')\n",
    "    elif int(guess)>rand_num:\n",
    "        print('Your number is too high')\n",
    "    elif int(guess) == rand_num:\n",
    "        print('Congrats your guess is correct')\n",
    "\n"
   ]
  },
  {
   "cell_type": "markdown",
   "metadata": {},
   "source": [
    "Final Version"
   ]
  },
  {
   "cell_type": "code",
   "execution_count": 3,
   "metadata": {},
   "outputs": [
    {
     "name": "stdout",
     "output_type": "stream",
     "text": [
      "The number can go between 1 and 10\n"
     ]
    }
   ],
   "source": [
    "import random \n",
    "\n",
    "rand_num=random.randint(1,10 )\n",
    "print(\"The number can go between 1 and 10\")\n",
    "        "
   ]
  },
  {
   "cell_type": "code",
   "execution_count": 5,
   "metadata": {},
   "outputs": [
    {
     "name": "stdout",
     "output_type": "stream",
     "text": [
      "This is not a number\n",
      "Congrats your guess is correct\n"
     ]
    }
   ],
   "source": [
    "guess=''\n",
    "while guess!= str(rand_num):\n",
    "    guess=input('Guess the number within the range')\n",
    "    \n",
    "\n",
    "    try:\n",
    "        int(guess)\n",
    "        it_is= True\n",
    "    except ValueError:\n",
    "        it_is=False\n",
    "        print('This is not a number')\n",
    "\n",
    "    if it_is==True: \n",
    "        if int(guess)<rand_num:\n",
    "            print('Your number is too low')\n",
    "        elif int(guess)>rand_num:\n",
    "            print('Your number is too high')\n",
    "        elif int(guess) == rand_num:\n",
    "            print('Congrats your guess is correct')"
   ]
  },
  {
   "cell_type": "code",
   "execution_count": null,
   "metadata": {},
   "outputs": [],
   "source": []
  }
 ],
 "metadata": {
  "interpreter": {
   "hash": "c4ef5ac9fe40889065280bc4036777609cd7465c040dacc36170616df68f6045"
  },
  "kernelspec": {
   "display_name": "Python 3.10.2 64-bit",
   "language": "python",
   "name": "python3"
  },
  "language_info": {
   "codemirror_mode": {
    "name": "ipython",
    "version": 3
   },
   "file_extension": ".py",
   "mimetype": "text/x-python",
   "name": "python",
   "nbconvert_exporter": "python",
   "pygments_lexer": "ipython3",
   "version": "3.10.2"
  },
  "orig_nbformat": 4
 },
 "nbformat": 4,
 "nbformat_minor": 2
}
